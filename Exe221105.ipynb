{
  "nbformat": 4,
  "nbformat_minor": 0,
  "metadata": {
    "colab": {
      "provenance": [],
      "authorship_tag": "ABX9TyPJ0S7Pg4EzSlZA2rHeONWG",
      "include_colab_link": true
    },
    "kernelspec": {
      "name": "python3",
      "display_name": "Python 3"
    },
    "language_info": {
      "name": "python"
    }
  },
  "cells": [
    {
      "cell_type": "markdown",
      "metadata": {
        "id": "view-in-github",
        "colab_type": "text"
      },
      "source": [
        "<a href=\"https://colab.research.google.com/github/Yu-ji-seon/BP_10_Ch4/blob/main/Exe221105.ipynb\" target=\"_parent\"><img src=\"https://colab.research.google.com/assets/colab-badge.svg\" alt=\"Open In Colab\"/></a>"
      ]
    },
    {
      "cell_type": "code",
      "execution_count": 1,
      "metadata": {
        "colab": {
          "base_uri": "https://localhost:8080/",
          "height": 35
        },
        "id": "dZgD1tOV1oX-",
        "outputId": "0ae49d80-5f05-495f-f5f2-0cbeafeeaea6"
      },
      "outputs": [
        {
          "output_type": "execute_result",
          "data": {
            "text/plain": [
              "\"나는',12,'개의 사과를 먹었다\""
            ],
            "application/vnd.google.colaboratory.intrinsic+json": {
              "type": "string"
            }
          },
          "metadata": {},
          "execution_count": 1
        }
      ],
      "source": [
        "\"나는',12,'개의 사과를 먹었다\"\n"
      ]
    },
    {
      "cell_type": "code",
      "source": [
        "'apple'+'grape'\n",
        "'apple'*3"
      ],
      "metadata": {
        "colab": {
          "base_uri": "https://localhost:8080/",
          "height": 35
        },
        "id": "LEPXJIPS2ql-",
        "outputId": "dd23fbdf-7f1e-427d-d6b5-c92c37bdddf1"
      },
      "execution_count": 2,
      "outputs": [
        {
          "output_type": "execute_result",
          "data": {
            "text/plain": [
              "'appleappleapple'"
            ],
            "application/vnd.google.colaboratory.intrinsic+json": {
              "type": "string"
            }
          },
          "metadata": {},
          "execution_count": 2
        }
      ]
    },
    {
      "cell_type": "code",
      "source": [
        "s= input(\"문자열을 입력하시오\")\n",
        "print(s[0:2]+s[4:])"
      ],
      "metadata": {
        "colab": {
          "base_uri": "https://localhost:8080/"
        },
        "id": "nDf4HKhw3D-t",
        "outputId": "9f81625b-73a5-46ca-a930-e873781227c8"
      },
      "execution_count": 4,
      "outputs": [
        {
          "output_type": "stream",
          "name": "stdout",
          "text": [
            "문자열을 입력하시오python\n",
            "pyon\n"
          ]
        }
      ]
    },
    {
      "cell_type": "code",
      "source": [
        "str= input(\"문자열을 입력하시오: \")\n",
        "print(str + \"하는 중\")"
      ],
      "metadata": {
        "colab": {
          "base_uri": "https://localhost:8080/"
        },
        "id": "yx1aSHvT5OYr",
        "outputId": "98577ec2-97f5-4986-a1bb-61dd3c58c03a"
      },
      "execution_count": 8,
      "outputs": [
        {
          "output_type": "stream",
          "name": "stdout",
          "text": [
            "문자열을 입력하시오: 청소\n",
            "청소하는 중\n"
          ]
        }
      ]
    },
    {
      "cell_type": "code",
      "source": [
        "p = input(\"기호를 입력해주세요: \")\n",
        "s = input(\"중간에 삽입할 문자열을 입력하시오 : \")\n",
        "\n",
        "print(p[0]+s+p[1])"
      ],
      "metadata": {
        "colab": {
          "base_uri": "https://localhost:8080/"
        },
        "id": "8HJuC28j5fMH",
        "outputId": "7c43ea1d-73a3-44ec-a072-de99b5f3eb1d"
      },
      "execution_count": 9,
      "outputs": [
        {
          "output_type": "stream",
          "name": "stdout",
          "text": [
            "기호를 입력해주세요: []\n",
            "중간에 삽입할 문자열을 입력하시오 : python\n",
            "[python]\n"
          ]
        }
      ]
    }
  ]
}